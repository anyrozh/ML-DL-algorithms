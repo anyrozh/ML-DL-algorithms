{
  "nbformat": 4,
  "nbformat_minor": 0,
  "metadata": {
    "colab": {
      "provenance": []
    },
    "kernelspec": {
      "name": "python3",
      "display_name": "Python 3"
    },
    "language_info": {
      "name": "python"
    }
  },
  "cells": [
    {
      "cell_type": "code",
      "source": [
        "import numpy as np\n",
        "import pandas as pd\n",
        "from collections import Counter\n",
        "\n",
        "class MyTreeClf:\n",
        "    def __init__(self, max_depth=5, min_samples_split=2, max_leafs=20):\n",
        "        self.max_depth = max_depth\n",
        "        self.min_samples_split = min_samples_split\n",
        "        self.max_leafs = max_leafs\n",
        "        self.leafs_cnt = 0  # Начинаем с 0, корень еще не создан\n",
        "        self.root = None\n",
        "\n",
        "    def __repr__(self):\n",
        "        return f\"MyTreeClf class: max_depth={self.max_depth}, min_samples_split={self.min_samples_split}, max_leafs={self.max_leafs}\"\n",
        "\n",
        "    def fit(self, X, y):\n",
        "        self.leafs_cnt = 1\n",
        "        self.root = self._grow_tree(X, y)\n",
        "\n",
        "    def _grow_tree(self, X, y, depth=0):\n",
        "        n_samples = len(X)\n",
        "        n_labels = len(np.unique(y))\n",
        "\n",
        "        if (depth >= self.max_depth or\n",
        "            n_labels == 1 or\n",
        "            n_samples < self.min_samples_split or\n",
        "            self.leafs_cnt >= self.max_leafs):\n",
        "            self.leafs_cnt += 1\n",
        "            return {'value': self._most_common_label(y)}\n",
        "\n",
        "        col_name, split_value, ig = self.get_best_split(X, y)\n",
        "\n",
        "        if ig <= 0:  # Нет прироста информации\n",
        "            self.leafs_cnt += 1\n",
        "            return {'value': self._most_common_label(y)}\n",
        "\n",
        "        left_mask = X[col_name] <= split_value\n",
        "        right_mask = ~left_mask\n",
        "\n",
        "        if sum(left_mask) == 0 or sum(right_mask) == 0:\n",
        "            self.leafs_cnt += 1\n",
        "            return {'value': self._most_common_label(y)}\n",
        "\n",
        "        left = self._grow_tree(X[left_mask], y[left_mask], depth + 1)\n",
        "        right = self._grow_tree(X[right_mask], y[right_mask], depth + 1)\n",
        "\n",
        "        # Если не смогли создать поддеревья из-за ограничения листьев\n",
        "        if left is None or right is None:\n",
        "            self.leafs_cnt += 1\n",
        "            return {'value': self._most_common_label(y)}\n",
        "\n",
        "        return {\n",
        "            'feature': col_name,\n",
        "            'threshold': split_value,\n",
        "            'left': left,\n",
        "            'right': right\n",
        "        }\n",
        "\n",
        "    def get_best_split(self, X, y):\n",
        "     best_ig = -1\n",
        "     best_col = None\n",
        "     best_threshold = None\n",
        "\n",
        "     for col in X.columns:\n",
        "        X_col = X[col].values\n",
        "        unique_values = np.unique(X_col)\n",
        "\n",
        "        # Проверяем все возможные пороги между уникальными значениями\n",
        "        for i in range(len(unique_values) - 1):\n",
        "            threshold = (unique_values[i] + unique_values[i+1]) / 2\n",
        "\n",
        "            left_mask = X_col <= threshold\n",
        "            right_mask = ~left_mask\n",
        "\n",
        "            # Пропускаем если одна из сторон пустая\n",
        "            if sum(left_mask) == 0 or sum(right_mask) == 0:\n",
        "                continue\n",
        "\n",
        "            # Вычисляем информационный прирост\n",
        "            current_ig = self._information_gain(y, X_col, threshold)\n",
        "\n",
        "            if current_ig > best_ig:\n",
        "                best_ig = current_ig\n",
        "                best_col = col\n",
        "                best_threshold = threshold\n",
        "\n",
        "     return best_col, best_threshold, best_ig if best_ig > 0 else 0\n",
        "\n",
        "    def _information_gain(self, y, X_col, split_thresh):\n",
        "        parent_entropy = self._entropy(y)\n",
        "        left_mask = X_col <= split_thresh\n",
        "        right_mask = ~left_mask\n",
        "        if sum(left_mask) == 0 or sum(right_mask) == 0:\n",
        "            return 0\n",
        "        n = len(y)\n",
        "        n_l, n_r = sum(left_mask), sum(right_mask)\n",
        "        e_l, e_r = self._entropy(y[left_mask]), self._entropy(y[right_mask])\n",
        "        child_entropy = (n_l / n) * e_l + (n_r / n) * e_r\n",
        "        ig = parent_entropy - child_entropy\n",
        "        return ig\n",
        "\n",
        "    def _entropy(self, y):\n",
        "        counts = np.bincount(y)\n",
        "        ps = counts / len(y)\n",
        "        return -np.sum([p * np.log2(p) for p in ps if p > 0])\n",
        "\n",
        "    def _most_common_label(self, y):\n",
        "        return Counter(y).most_common(1)[0][0]\n",
        "\n",
        "    def predict(self, X):\n",
        "        return np.array([self._traverse_tree(x, self.root) for _, x in X.iterrows()])\n",
        "\n",
        "    def _traverse_tree(self, x, node):\n",
        "        if node is None:\n",
        "            return 0\n",
        "        if 'value' in node:\n",
        "            return node['value']\n",
        "        if x[node['feature']] <= node['threshold']:\n",
        "            return self._traverse_tree(x, node['left'])\n",
        "        else:\n",
        "            return self._traverse_tree(x, node['right'])\n",
        "\n",
        "    def print_tree(self, node=None, indent=\"\", direction=None):\n",
        "        if node is None:\n",
        "            node = self.root\n",
        "\n",
        "        if 'value' in node:\n",
        "            if direction == 'left':\n",
        "                print(f\"{indent}leaf_left = {node['value']}\")\n",
        "            elif direction == 'right':\n",
        "                print(f\"{indent}leaf_right = {node['value']}\")\n",
        "            else:\n",
        "                print(f\"{indent}leaf = {node['value']}\")\n",
        "            return\n",
        "\n",
        "        print(f\"{indent}{node['feature']} > {node['threshold']}\")\n",
        "\n",
        "        if 'left' in node:\n",
        "            self.print_tree(node['left'], indent + \"  \", 'left')\n",
        "        if 'right' in node:\n",
        "            self.print_tree(node['right'], indent + \"  \", 'right')\n",
        "\n",
        "from sklearn.datasets import make_classification\n",
        "\n",
        "X, y = make_classification(n_samples=150, n_features=5, n_informative=3, random_state=42)\n",
        "X = pd.DataFrame(X).round(2)\n",
        "y = pd.Series(y)\n",
        "X.columns = [f'col_{col}' for col in X.columns]"
      ],
      "metadata": {
        "id": "wIwmE4lHgiln"
      },
      "execution_count": 49,
      "outputs": []
    },
    {
      "cell_type": "code",
      "source": [
        "X, y = make_classification(n_samples=150, n_features=5, n_informative=3, random_state=42)\n",
        "X = pd.DataFrame(X).round(2)\n",
        "y = pd.Series(y)\n",
        "X.columns = [f'col_{col}' for col in X.columns]"
      ],
      "metadata": {
        "id": "U_s0feV7l4tI"
      },
      "execution_count": 50,
      "outputs": []
    },
    {
      "cell_type": "code",
      "source": [
        "cl = MyTreeClf(max_depth=7, min_samples_split=2)\n",
        "cl.fit(X, y)\n",
        "cl.print_tree()"
      ],
      "metadata": {
        "colab": {
          "base_uri": "https://localhost:8080/"
        },
        "id": "EoXszR86zuLT",
        "outputId": "4e76d83d-e4ac-45fe-a053-7e9c6db37615"
      },
      "execution_count": 51,
      "outputs": [
        {
          "output_type": "stream",
          "name": "stdout",
          "text": [
            "col_0 > -0.1\n",
            "  col_3 > 1.51\n",
            "    leaf_left = 1\n",
            "    col_1 > 1.445\n",
            "      col_2 > -0.65\n",
            "        col_3 > 1.935\n",
            "          leaf_left = 1\n",
            "          leaf_right = 0\n",
            "        col_4 > -0.07\n",
            "          col_0 > -1.27\n",
            "            leaf_left = 1\n",
            "            leaf_right = 0\n",
            "          leaf_right = 1\n",
            "      leaf_right = 1\n",
            "  col_2 > -0.235\n",
            "    leaf_left = 1\n",
            "    leaf_right = 0\n"
          ]
        }
      ]
    },
    {
      "cell_type": "code",
      "source": [
        "cl = MyTreeClf(max_depth=1, min_samples_split=1, max_leafs= 2)\n",
        "cl.fit(X, y)\n",
        "cl.print_tree()"
      ],
      "metadata": {
        "colab": {
          "base_uri": "https://localhost:8080/"
        },
        "id": "h1v2o8Ezf7zl",
        "outputId": "8e675710-c9c1-4456-d3c7-5042c553b4fe"
      },
      "execution_count": 52,
      "outputs": [
        {
          "output_type": "stream",
          "name": "stdout",
          "text": [
            "col_0 > -0.1\n",
            "  leaf_left = 1\n",
            "  leaf_right = 0\n"
          ]
        }
      ]
    },
    {
      "cell_type": "code",
      "source": [
        "cl = MyTreeClf(max_depth=3, min_samples_split=2, max_leafs= 5)\n",
        "cl.fit(X, y)\n",
        "cl.print_tree()"
      ],
      "metadata": {
        "colab": {
          "base_uri": "https://localhost:8080/"
        },
        "id": "6BrsE6WqgyEw",
        "outputId": "926b5366-d3e9-4483-e9f8-2bd06d38aba9"
      },
      "execution_count": 53,
      "outputs": [
        {
          "output_type": "stream",
          "name": "stdout",
          "text": [
            "col_0 > -0.1\n",
            "  col_3 > 1.51\n",
            "    leaf_left = 1\n",
            "    col_1 > 1.445\n",
            "      leaf_left = 0\n",
            "      leaf_right = 1\n",
            "  col_2 > -0.235\n",
            "    leaf_left = 1\n",
            "    leaf_right = 0\n"
          ]
        }
      ]
    },
    {
      "cell_type": "code",
      "source": [
        "                       [1: col_0 > -0.1]\n",
        "                      /                \\\n",
        "           [1.1: col_3 > 1.51]        [1.2: col_2 > -0.235]\n",
        "          /              \\              /              \\\n",
        "1.1.left (1.0)  [1.1.2: col_1 > 1.445]   1.2.left (1.0)   1.2.right (0.0)\n",
        "                     /          \\\n",
        "       [1.1.2.1: col_2 > -0.65]   1.1.2.right (1.0)\n",
        "           /               \\\n",
        "[1.1.2.1.1: col_3 > 1.935] [1.1.2.1.2: col_4 > -0.07]\n",
        "    /            \\               /            \\\n",
        "1.1.2.1.1.left 1.1.2.1.1.right 1.1.2.1.2.left 1.1.2.1.2.right\n",
        "    (1.0)          (0.0)       (≈0.1429)         (1.0)"
      ],
      "metadata": {
        "id": "W8yWoJAXFkwh"
      },
      "execution_count": null,
      "outputs": []
    },
    {
      "cell_type": "code",
      "source": [
        "                       [col_0 > -0.1]\n",
        "                      /               \\\n",
        "          [col_3 > 1.51]              [col_2 > -0.235]\n",
        "         /            \\               /              \\\n",
        "  leaf_left=1    [col_1 > 1.445]   leaf_left=1    leaf_right=0\n",
        "                   /          \\\n",
        "           [col_2 > -0.65]    leaf_right=1\n",
        "            /            \\\n",
        "   [col_3 > 1.935]    [col_4 > -0.07]\n",
        "    /          \\        /          \\\n",
        "leaf_left=1 leaf_right=0 [col_0 > -1.27] leaf_right=1\n",
        "                         /          \\\n",
        "                   leaf_left=1  leaf_right=0"
      ],
      "metadata": {
        "id": "FqkeyIJiJDW2"
      },
      "execution_count": null,
      "outputs": []
    },
    {
      "cell_type": "code",
      "source": [
        "        [col_0 > -0.100]\n",
        "        /            \\\n",
        "    [col_3 > 1.510]  [col_2 > -0.235]\n",
        "    /          \\        /        \\\n",
        "1.1.1.left  1.1.2  1.2.1.left 1.2.2.right\n",
        " (1)       /    \\      (1)        (0)\n",
        "      [col_1 > 1.445]\n",
        "       /          \\\n",
        "1.1.2.1.left 1.1.2.2.right\n",
        "     (0)          (1)"
      ],
      "metadata": {
        "id": "VukD637mFisi"
      },
      "execution_count": null,
      "outputs": []
    }
  ]
}